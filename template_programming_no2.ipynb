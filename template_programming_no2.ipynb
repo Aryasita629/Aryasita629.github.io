{
  "cells": [
    {
      "cell_type": "markdown",
      "metadata": {
        "id": "view-in-github",
        "colab_type": "text"
      },
      "source": [
        "<a href=\"https://colab.research.google.com/github/Aryasita629/Aryasita629.github.io/blob/main/template_programming_no2.ipynb\" target=\"_parent\"><img src=\"https://colab.research.google.com/assets/colab-badge.svg\" alt=\"Open In Colab\"/></a>"
      ]
    },
    {
      "cell_type": "markdown",
      "id": "747bc6d0-0279-4495-8e38-eeb085beff9f",
      "metadata": {
        "id": "747bc6d0-0279-4495-8e38-eeb085beff9f"
      },
      "source": [
        "# Programming Test - 2 for Astra Data Intelligence Internship Program 2025"
      ]
    },
    {
      "cell_type": "markdown",
      "id": "f6dc714c-7486-446e-84c7-76633afcc2bc",
      "metadata": {
        "id": "f6dc714c-7486-446e-84c7-76633afcc2bc"
      },
      "source": [
        "#### Instruction\n",
        "1. Access and **make a copy of this notebook**\n",
        "2. **Complete the line of your own code** to create Analytical Data Set (ADS)\n",
        "3. There are several **test case to validate** your answer\n",
        "4. Submit your answer in `.py` format with file name `full_name-programming_2-ADIIP2025.py` (make sure its exactly same with full name you submit at registration form)"
      ]
    },
    {
      "cell_type": "code",
      "execution_count": null,
      "id": "c9144ceb-b92c-414d-add7-c574c064357d",
      "metadata": {
        "id": "c9144ceb-b92c-414d-add7-c574c064357d"
      },
      "outputs": [],
      "source": [
        "# Your data, make sure it s exactly same with the registration data you have submit\n",
        "full_name =\n",
        "email ="
      ]
    },
    {
      "cell_type": "code",
      "execution_count": null,
      "id": "7780738d-49bd-43c7-b527-7791c7f849e9",
      "metadata": {
        "id": "7780738d-49bd-43c7-b527-7791c7f849e9"
      },
      "outputs": [],
      "source": [
        "# Write your code here to create Analytical Data Set (ADS)\n",
        "# Name of your final table must be \"data\"\n",
        "import pandas as pd\n"
      ]
    },
    {
      "cell_type": "code",
      "execution_count": null,
      "id": "c986344a-774b-400f-900f-666bb8f5e1be",
      "metadata": {
        "id": "c986344a-774b-400f-900f-666bb8f5e1be"
      },
      "outputs": [],
      "source": [
        "# Validation test\n",
        "df_shape = data.shape\n",
        "df_col = data.columns\n",
        "df_missing = data.isnull().sum().sum()"
      ]
    },
    {
      "cell_type": "code",
      "source": [
        "import pandas as pd\n",
        "import numpy as np\n",
        "\n",
        "# Struktur tabel ADS yang diharapkan\n",
        "columns = [\n",
        "    'Province',\n",
        "    'City',\n",
        "    'period',\n",
        "    'nilai_tukar_petani',\n",
        "    'occupancy_hotel',\n",
        "    'jumlah_penduduk',\n",
        "    'persentase_penduduk_miskin',\n",
        "    'pdrb_adhk',\n",
        "    'jumlah_restoran',\n",
        "    'produksi_padi'\n",
        "]\n",
        "\n",
        "# Membuat sample data untuk demonstrasi\n",
        "dates = pd.date_range(start='2018-01-01', end='2023-12-31', freq='M')\n",
        "cities = ['Bengkulu Utara', 'Bengkulu Selatan', 'Bengkulu Tengah', 'Kota Bengkulu',\n",
        "          'Kaur', 'Kepahiang', 'Lebong', 'Muko Muko', 'Rejang Lebong', 'Seluma']\n",
        "\n",
        "# Membuat DataFrame kosong dengan struktur yang diinginkan\n",
        "ads = pd.DataFrame(columns=columns)\n",
        "\n",
        "# Menampilkan informasi tentang struktur data\n",
        "print(\"Informasi Struktur ADS:\")\n",
        "print(\"\\nBentuk Tabel (Shape):\")\n",
        "print(f\"Jumlah Baris yang Diharapkan: {len(dates) * len(cities)}\")  # 72 bulan * 10 kota\n",
        "print(f\"Jumlah Kolom: {len(columns)}\")\n",
        "\n",
        "print(\"\\nUrutan Nama Kolom:\")\n",
        "for idx, col in enumerate(columns, 1):\n",
        "    print(f\"{idx}. {col}\")\n",
        "\n",
        "print(\"\\nAnalisis Missing Value:\")\n",
        "print(\"Potensi penyebab missing value:\")\n",
        "print(\"1. Data Provinsi (Monthly):\")\n",
        "print(\"   - Interpolasi diperlukan untuk mengkonversi ke level kota\")\n",
        "print(\"   - Metode: Proportional allocation berdasarkan karakteristik kota\")\n",
        "\n",
        "print(\"\\n2. Data Kota (Yearly):\")\n",
        "print(\"   - Interpolasi diperlukan untuk mengkonversi ke level bulanan\")\n",
        "print(\"   - Metode: Time series interpolation (cubic spline/linear)\")\n",
        "\n",
        "# Menampilkan contoh struktur data final\n",
        "sample_data = {\n",
        "    'Province': ['Bengkulu'] * 5,\n",
        "    'City': cities[:5],\n",
        "    'period': ['2018-01'] * 5,\n",
        "    'nilai_tukar_petani': np.random.uniform(95, 105, 5),\n",
        "    'occupancy_hotel': np.random.uniform(40, 80, 5),\n",
        "    'jumlah_penduduk': np.random.uniform(100000, 500000, 5),\n",
        "    'persentase_penduduk_miskin': np.random.uniform(5, 15, 5),\n",
        "    'pdrb_adhk': np.random.uniform(1000000, 5000000, 5),\n",
        "    'jumlah_restoran': np.random.uniform(50, 200, 5),\n",
        "    'produksi_padi': np.random.uniform(10000, 50000, 5)\n",
        "}\n",
        "\n",
        "sample_df = pd.DataFrame(sample_data)\n",
        "print(\"\\nContoh 5 Baris Pertama Data:\")\n",
        "print(sample_df)"
      ],
      "metadata": {
        "id": "1A6Mi1cE0iZL",
        "outputId": "02800132-98ec-480a-e857-cadd5d5c452c",
        "colab": {
          "base_uri": "https://localhost:8080/"
        }
      },
      "id": "1A6Mi1cE0iZL",
      "execution_count": 1,
      "outputs": [
        {
          "output_type": "stream",
          "name": "stdout",
          "text": [
            "Informasi Struktur ADS:\n",
            "\n",
            "Bentuk Tabel (Shape):\n",
            "Jumlah Baris yang Diharapkan: 720\n",
            "Jumlah Kolom: 10\n",
            "\n",
            "Urutan Nama Kolom:\n",
            "1. Province\n",
            "2. City\n",
            "3. period\n",
            "4. nilai_tukar_petani\n",
            "5. occupancy_hotel\n",
            "6. jumlah_penduduk\n",
            "7. persentase_penduduk_miskin\n",
            "8. pdrb_adhk\n",
            "9. jumlah_restoran\n",
            "10. produksi_padi\n",
            "\n",
            "Analisis Missing Value:\n",
            "Potensi penyebab missing value:\n",
            "1. Data Provinsi (Monthly):\n",
            "   - Interpolasi diperlukan untuk mengkonversi ke level kota\n",
            "   - Metode: Proportional allocation berdasarkan karakteristik kota\n",
            "\n",
            "2. Data Kota (Yearly):\n",
            "   - Interpolasi diperlukan untuk mengkonversi ke level bulanan\n",
            "   - Metode: Time series interpolation (cubic spline/linear)\n",
            "\n",
            "Contoh 5 Baris Pertama Data:\n",
            "   Province              City   period  nilai_tukar_petani  occupancy_hotel  \\\n",
            "0  Bengkulu    Bengkulu Utara  2018-01           98.086768        73.775529   \n",
            "1  Bengkulu  Bengkulu Selatan  2018-01           98.372261        46.040055   \n",
            "2  Bengkulu   Bengkulu Tengah  2018-01           97.428570        79.220019   \n",
            "3  Bengkulu     Kota Bengkulu  2018-01          104.512158        46.161933   \n",
            "4  Bengkulu              Kaur  2018-01           99.420166        72.580333   \n",
            "\n",
            "   jumlah_penduduk  persentase_penduduk_miskin     pdrb_adhk  jumlah_restoran  \\\n",
            "0    218333.062372                   10.661592  2.359457e+06       154.201422   \n",
            "1    246914.546694                   11.186349  2.860248e+06       179.500308   \n",
            "2    370204.658834                    6.576778  4.797551e+06       162.923529   \n",
            "3    105921.828715                   13.178192  3.290643e+06       155.638166   \n",
            "4    129474.706385                   12.113086  3.354225e+06        53.663009   \n",
            "\n",
            "   produksi_padi  \n",
            "0   26442.430396  \n",
            "1   19577.600714  \n",
            "2   19618.512149  \n",
            "3   23598.238016  \n",
            "4   24174.761162  \n"
          ]
        },
        {
          "output_type": "stream",
          "name": "stderr",
          "text": [
            "<ipython-input-1-021e75f6c687>:19: FutureWarning: 'M' is deprecated and will be removed in a future version, please use 'ME' instead.\n",
            "  dates = pd.date_range(start='2018-01-01', end='2023-12-31', freq='M')\n"
          ]
        }
      ]
    }
  ],
  "metadata": {
    "kernelspec": {
      "display_name": "env-analytics-1",
      "language": "python",
      "name": "env-analytics-1"
    },
    "language_info": {
      "codemirror_mode": {
        "name": "ipython",
        "version": 3
      },
      "file_extension": ".py",
      "mimetype": "text/x-python",
      "name": "python",
      "nbconvert_exporter": "python",
      "pygments_lexer": "ipython3",
      "version": "3.10.13"
    },
    "colab": {
      "provenance": [],
      "include_colab_link": true
    }
  },
  "nbformat": 4,
  "nbformat_minor": 5
}