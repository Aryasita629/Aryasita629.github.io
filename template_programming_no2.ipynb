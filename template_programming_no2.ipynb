{
  "cells": [
    {
      "cell_type": "markdown",
      "metadata": {
        "id": "view-in-github",
        "colab_type": "text"
      },
      "source": [
        "<a href=\"https://colab.research.google.com/github/Aryasita629/Aryasita629.github.io/blob/main/template_programming_no2.ipynb\" target=\"_parent\"><img src=\"https://colab.research.google.com/assets/colab-badge.svg\" alt=\"Open In Colab\"/></a>"
      ]
    },
    {
      "cell_type": "markdown",
      "id": "747bc6d0-0279-4495-8e38-eeb085beff9f",
      "metadata": {
        "id": "747bc6d0-0279-4495-8e38-eeb085beff9f"
      },
      "source": [
        "# Programming Test - 2 for Astra Data Intelligence Internship Program 2025"
      ]
    },
    {
      "cell_type": "markdown",
      "id": "f6dc714c-7486-446e-84c7-76633afcc2bc",
      "metadata": {
        "id": "f6dc714c-7486-446e-84c7-76633afcc2bc"
      },
      "source": [
        "#### Instruction\n",
        "1. Access and **make a copy of this notebook**\n",
        "2. **Complete the line of your own code** to create Analytical Data Set (ADS)\n",
        "3. There are several **test case to validate** your answer\n",
        "4. Submit your answer in `.py` format with file name `full_name-programming_2-ADIIP2025.py` (make sure its exactly same with full name you submit at registration form)"
      ]
    },
    {
      "cell_type": "code",
      "execution_count": null,
      "id": "c9144ceb-b92c-414d-add7-c574c064357d",
      "metadata": {
        "id": "c9144ceb-b92c-414d-add7-c574c064357d"
      },
      "outputs": [],
      "source": [
        "# Your data, make sure it s exactly same with the registration data you have submit\n",
        "full_name =\n",
        "email ="
      ]
    },
    {
      "cell_type": "code",
      "execution_count": null,
      "id": "7780738d-49bd-43c7-b527-7791c7f849e9",
      "metadata": {
        "id": "7780738d-49bd-43c7-b527-7791c7f849e9"
      },
      "outputs": [],
      "source": [
        "# Write your code here to create Analytical Data Set (ADS)\n",
        "# Name of your final table must be \"data\"\n",
        "import pandas as pd\n"
      ]
    },
    {
      "cell_type": "code",
      "execution_count": null,
      "id": "c986344a-774b-400f-900f-666bb8f5e1be",
      "metadata": {
        "id": "c986344a-774b-400f-900f-666bb8f5e1be"
      },
      "outputs": [],
      "source": [
        "# Validation test\n",
        "df_shape = data.shape\n",
        "df_col = data.columns\n",
        "df_missing = data.isnull().sum().sum()"
      ]
    }
  ],
  "metadata": {
    "kernelspec": {
      "display_name": "env-analytics-1",
      "language": "python",
      "name": "env-analytics-1"
    },
    "language_info": {
      "codemirror_mode": {
        "name": "ipython",
        "version": 3
      },
      "file_extension": ".py",
      "mimetype": "text/x-python",
      "name": "python",
      "nbconvert_exporter": "python",
      "pygments_lexer": "ipython3",
      "version": "3.10.13"
    },
    "colab": {
      "provenance": [],
      "include_colab_link": true
    }
  },
  "nbformat": 4,
  "nbformat_minor": 5
}